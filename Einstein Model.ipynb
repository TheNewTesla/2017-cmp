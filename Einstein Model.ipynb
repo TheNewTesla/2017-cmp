{
 "cells": [
  {
   "cell_type": "code",
   "execution_count": null,
   "metadata": {},
   "outputs": [],
   "source": [
    "import matplotlib.pyplot as plt\n",
    "\n",
    "from sympy import *\n",
    "\n",
    "def Omega():\n",
    "    \n",
    "    n = input(\"What is N? \")\n",
    "\n",
    "    Q = input(\"What is q? \")\n",
    "\n",
    "    n = int(n)\n",
    "\n",
    "    Q = int(Q)\n",
    "\n",
    "    if 0 < n <= 3 and Q >= 0:\n",
    "        for k in range(1, n):\n",
    "            ax = plt.subplots()\n",
    "\n",
    "            plt.axis('off')\n",
    "\n",
    "            ax = plt.axes([0,0,2.2,0.5]) \n",
    "\n",
    "            ax.set_xticks([])\n",
    "\n",
    "            ax.set_yticks([])\n",
    "            y = factorial(Q + k - 1)/factorial(Q) * factorial(k -1)\n",
    "            a = latex(\"\\Omega\") + latex((\"= \")) + latex(y)\n",
    "            plt.text(0.03,(0.7),'$%s$' %a,size=21)\n",
    "    else:\n",
    "        print(\"N must be between 0 and 3, and q must be larger than 0 \")"
   ]
  }
 ],
 "metadata": {
  "kernelspec": {
   "display_name": "Python 3",
   "language": "python",
   "name": "python3"
  },
  "language_info": {
   "codemirror_mode": {
    "name": "ipython",
    "version": 3
   },
   "file_extension": ".py",
   "mimetype": "text/x-python",
   "name": "python",
   "nbconvert_exporter": "python",
   "pygments_lexer": "ipython3",
   "version": "3.6.5"
  }
 },
 "nbformat": 4,
 "nbformat_minor": 2
}
