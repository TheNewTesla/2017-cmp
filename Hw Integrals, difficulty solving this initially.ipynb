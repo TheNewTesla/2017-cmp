{
 "cells": [
  {
   "cell_type": "code",
   "execution_count": 48,
   "metadata": {},
   "outputs": [],
   "source": [
    "#Lazar Novakovic\n",
    "#Hw on Integrals \n",
    "import numpy as np\n",
    "import math as math\n",
    "def rectangle(start,end,divisions):\n",
    "    f = lambda x: np.exp(-x ** 2)\n",
    "    x = np.linspace(start,end,divisions)\n",
    "    y = f(x)\n",
    "    deltax = (-start + end)/divisions\n",
    "    area = np.empty([divisions],float)\n",
    "    for i in range(divisions):\n",
    "        area[i] = y[i] * deltax\n",
    "    return sum(area)\n",
    "\n",
    "def trapezoid(start,end,divisions):\n",
    "    f = lambda x: np.exp(-x ** 2)\n",
    "    x = np.linspace(start,end,divisions+1)\n",
    "    y = f(x)\n",
    "    deltax = (-start + end)/divisions\n",
    "    area = np.empty([divisions],float)\n",
    "    for i in range(divisions):\n",
    "        if i == 1 or i == divisions:\n",
    "            area[i] = y[i] * deltax * 1/2\n",
    "        else:\n",
    "            area[i] = y[i] * deltax\n",
    "    return sum(area)\n",
    "\n",
    "def Simpson(start,end,divisions):\n",
    "    f = lambda x: np.exp(-x ** 2)\n",
    "    x = np.linspace(start,end,divisions+1)\n",
    "    y = f(x)\n",
    "    deltax = (-start + end)/divisions\n",
    "    area = np.empty([divisions],float)\n",
    "    for i in range(divisions):\n",
    "        if i == 1:\n",
    "            area[i] = y[i] * deltax * 1/3\n",
    "        elif i%2 == 1:\n",
    "            area[i] = y[i] * deltax * 2/3\n",
    "        else:\n",
    "            area[i] = y[i] * deltax * 4/3\n",
    "    return sum(area)\n"
   ]
  },
  {
   "cell_type": "code",
   "execution_count": 35,
   "metadata": {},
   "outputs": [
    {
     "data": {
      "text/plain": [
       "1.0353406985273053"
      ]
     },
     "execution_count": 35,
     "metadata": {},
     "output_type": "execute_result"
    }
   ],
   "source": [
    "rectangle(0,300,1000)"
   ]
  },
  {
   "cell_type": "code",
   "execution_count": 45,
   "metadata": {},
   "outputs": [
    {
     "data": {
      "text/plain": [
       "10.004"
      ]
     },
     "execution_count": 45,
     "metadata": {},
     "output_type": "execute_result"
    }
   ],
   "source": [
    "trapezoid(0,10004,1000)"
   ]
  },
  {
   "cell_type": "code",
   "execution_count": 49,
   "metadata": {},
   "outputs": [
    {
     "data": {
      "text/plain": [
       "0.8962137650955239"
      ]
     },
     "execution_count": 49,
     "metadata": {},
     "output_type": "execute_result"
    }
   ],
   "source": [
    "Simpson(0,3,100)"
   ]
  },
  {
   "cell_type": "code",
   "execution_count": null,
   "metadata": {},
   "outputs": [],
   "source": []
  }
 ],
 "metadata": {
  "kernelspec": {
   "display_name": "Python 3",
   "language": "python",
   "name": "python3"
  },
  "language_info": {
   "codemirror_mode": {
    "name": "ipython",
    "version": 3
   },
   "file_extension": ".py",
   "mimetype": "text/x-python",
   "name": "python",
   "nbconvert_exporter": "python",
   "pygments_lexer": "ipython3",
   "version": "3.6.6"
  }
 },
 "nbformat": 4,
 "nbformat_minor": 2
}
