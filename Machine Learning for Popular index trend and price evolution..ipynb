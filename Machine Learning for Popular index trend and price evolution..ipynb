{
 "cells": [
  {
   "cell_type": "markdown",
   "metadata": {},
   "source": [
    "# Machine learning application of predictive modelling for short-term large index movement.\n",
    "I will analyze the historical movement of large indices and attempt to link a model to the movement of the S&P 500. \n",
    "The indices used are all very large, popularly traded indices, which are widely used for many retirement funds, IRAs, mutual funds etc. \n",
    "\n",
    "\n",
    "Indices used: VEA VWO VO VB VV, respectively. Each index will have 6 years of historical prices and '' daily change. \n",
    "The target index is VOO. This is a commonly used S&P 500 ETF by Vanguard. \n",
    "All indices used are Vanguard. \n",
    "\n",
    "\n",
    "This model will attempt to predict movement of VOO given historical movement of the 5 indices.\n",
    "Initiall the model will attempt to classify data by whether the movement of VOO is positive or negative, later attempting to predict exact daily movement to 0.1%"
   ]
  },
  {
   "cell_type": "code",
   "execution_count": 157,
   "metadata": {
    "scrolled": false
   },
   "outputs": [],
   "source": [
    "import pandas as pd\n",
    "import numpy as np\n",
    "from sklearn.model_selection import train_test_split, cross_val_score\n",
    "from sklearn.neighbors import KNeighborsClassifier\n",
    "import matplotlib.pyplot as plt\n",
    "test_inputs = pd.read_csv('Stockdaily%changeraw.csv', delimiter=',')\n",
    "test_inputs = np.asarray(test_inputs)\n",
    "test_inputs\n",
    "\n",
    "import warnings\n",
    "warnings.filterwarnings('ignore')"
   ]
  },
  {
   "cell_type": "code",
   "execution_count": 158,
   "metadata": {},
   "outputs": [
    {
     "name": "stdout",
     "output_type": "stream",
     "text": [
      "[[-0.00155  0.00371  0.00399 -0.00111 -0.00094]\n",
      " [-0.00449 -0.00635 -0.00175 -0.00406 -0.00468]\n",
      " [ 0.00046 -0.00246  0.00224  0.00171 -0.00046]\n",
      " ...\n",
      " [-0.00119 -0.00086 -0.0025  -0.00078  0.00025]\n",
      " [-0.00716 -0.007   -0.00817 -0.00483 -0.00177]\n",
      " [ 0.00326  0.00073  0.00436  0.00166  0.00516]]\n"
     ]
    }
   ],
   "source": [
    "X = test_inputs[:,15:20] #data \n",
    "Y = test_inputs[:,21] #target\n",
    "X=X.astype('float')\n",
    "Y=Y.astype('float')\n",
    "\n",
    "print(X)\n"
   ]
  },
  {
   "cell_type": "markdown",
   "metadata": {},
   "source": [
    "# The data is rounded to quantize the movement of each index to 0.1% \n",
    "A value of 5 will correspond to 0.5% movement upwards etc."
   ]
  },
  {
   "cell_type": "code",
   "execution_count": 172,
   "metadata": {},
   "outputs": [
    {
     "name": "stdout",
     "output_type": "stream",
     "text": [
      "[0 0 1 ... 0 0 1]\n"
     ]
    }
   ],
   "source": [
    "\n",
    "X_d = np.array(np.round(X*1000,decimals=0))\n",
    "Y_d = np.array(np.round(Y*1000,decimals=0))\n",
    "\n",
    "X_d=X_d.astype('int')\n",
    "Y_d=Y_d.astype('int')\n",
    "Y_d[Y_d >=0]=1\n",
    "Y_d[Y_d <0]=0\n",
    "print(Y_d)\n"
   ]
  },
  {
   "cell_type": "code",
   "execution_count": 173,
   "metadata": {},
   "outputs": [],
   "source": [
    "X_train, X_test, y_train, y_test = train_test_split(X_d, Y_d)"
   ]
  },
  {
   "cell_type": "code",
   "execution_count": 174,
   "metadata": {},
   "outputs": [
    {
     "data": {
      "text/plain": [
       "(1510, 1132, 378)"
      ]
     },
     "execution_count": 174,
     "metadata": {},
     "output_type": "execute_result"
    }
   ],
   "source": [
    "len(X_d),len(X_train),len(X_test)"
   ]
  },
  {
   "cell_type": "code",
   "execution_count": 175,
   "metadata": {},
   "outputs": [],
   "source": [
    "estimator = KNeighborsClassifier(n_neighbors=40)"
   ]
  },
  {
   "cell_type": "code",
   "execution_count": 176,
   "metadata": {},
   "outputs": [
    {
     "data": {
      "text/plain": [
       "KNeighborsClassifier(algorithm='auto', leaf_size=30, metric='minkowski',\n",
       "           metric_params=None, n_jobs=None, n_neighbors=40, p=2,\n",
       "           weights='uniform')"
      ]
     },
     "execution_count": 176,
     "metadata": {},
     "output_type": "execute_result"
    }
   ],
   "source": [
    "estimator.fit(X_train, y_train)"
   ]
  },
  {
   "cell_type": "code",
   "execution_count": 177,
   "metadata": {},
   "outputs": [
    {
     "name": "stdout",
     "output_type": "stream",
     "text": [
      "The accuracy is 91.5%\n"
     ]
    }
   ],
   "source": [
    "y_predicted = estimator.predict(X_test)\n",
    "accuracy = np.mean(y_test == y_predicted) *100\n",
    "print(\"The accuracy is {0:.1f}%\".format(accuracy))"
   ]
  },
  {
   "cell_type": "code",
   "execution_count": 178,
   "metadata": {},
   "outputs": [
    {
     "name": "stdout",
     "output_type": "stream",
     "text": [
      "The accuracy is 89.5%\n"
     ]
    }
   ],
   "source": [
    "scores = cross_val_score(estimator, X_d, Y_d, scoring = 'accuracy')\n",
    "average_accuracy = np.mean(scores)*100\n",
    "print(\"The accuracy is {0:.1f}%\".format(average_accuracy))\n"
   ]
  },
  {
   "cell_type": "markdown",
   "metadata": {},
   "source": [
    "# Accuracy of predicting corresponding, concurrent price of S&P given daily prices of popular indices.\n",
    "The accuracy of the model is superb, however not to be mislead this model predicts whether or not the S&P moved upwards or downwards given the movement of other indices. This could imply that most market indices have clear correlations between price movements and trends. If one index trends upwards while another moves downwards, or vice-versa, it appears to consistently follow this pattern. Although overall price evolution is chaotic, correlation and covariance appears to be linked. However, this is only implied for very large, low variance, uniformly distributed indices, not soley equities. "
   ]
  },
  {
   "cell_type": "code",
   "execution_count": 183,
   "metadata": {},
   "outputs": [],
   "source": [
    "avg_scores = []\n",
    "all_scores = []\n",
    "parameters = list(range(1,20))\n",
    "for n_neighbors in parameters:\n",
    "    estimator = KNeighborsClassifier(n_neighbors=n_neighbors)\n",
    "    scores = cross_val_score(estimator, X_d, Y_d, scoring = 'accuracy')\n",
    "    avg_scores.append(np.mean(scores))\n",
    "    all_scores.append(scores)"
   ]
  },
  {
   "cell_type": "code",
   "execution_count": 184,
   "metadata": {},
   "outputs": [
    {
     "data": {
      "image/png": "[encoded data removed]",
      "text/plain": [
       "<Figure size 432x288 with 1 Axes>"
      ]
     },
     "metadata": {
      "needs_background": "light"
     },
     "output_type": "display_data"
    },
    {
     "name": "stdout",
     "output_type": "stream",
     "text": [
      "0.28124147021823237\n"
     ]
    }
   ],
   "source": [
    "\n",
    "import matplotlib.pyplot as plt\n",
    "plt.plot(parameters, avg_scores, '-o')\n",
    "plt.xlabel('N-Neighbour')\n",
    "plt.ylabel('Accuracy')\n",
    "plt.ylim([0,1])\n",
    "\n",
    "plt.show()\n",
    "print(np.max(avg_scores))"
   ]
  },
  {
   "cell_type": "markdown",
   "metadata": {},
   "source": [
    "# Exact value prediction\n",
    "Now the I will run the machine learning process with the predictive values of the S&P 500 being exact values, instead of only the direction of movement.\n",
    "\n",
    "The estimator will now run with classifications of all of the possible historical values for daily movement. There are 50 unique classifications for the model now. \n",
    "\n",
    "The unique values for classification are shown below, along with the minimum and maximum daily movement of the S&P500.\n",
    "All values are still given in 0.1% units. i.e.  a classification of 6 corresponds to a 0.6% daily movement, - 5 is -0.5% movement etc.\n"
   ]
  },
  {
   "cell_type": "code",
   "execution_count": 185,
   "metadata": {},
   "outputs": [
    {
     "name": "stdout",
     "output_type": "stream",
     "text": [
      "Largest negative movement: -36\n",
      "Largest positive movement: 42\n",
      "All possible classifications: {0, 1, 2, 3, 4, 5, 6, 7, 8, 9, 10, 11, 12, 13, 14, 15, 16, 17, 18, 20, 21, 22, 23, 24, 30, 34, 38, 42, -8, -36, -27, -20, -19, -18, -17, -16, -15, -14, -13, -12, -11, -10, -9, -1, -7, -6, -5, -4, -3, -2}\n",
      "Number of unique classifications in 0.1% = 50\n"
     ]
    }
   ],
   "source": [
    "print(\"Largest negative movement:\",min(Y_d))\n",
    "print(\"Largest positive movement:\" ,max(Y_d))\n",
    "output = set()\n",
    "for x in Y_d:\n",
    "    output.add(x)\n",
    "print(\"All possible classifications:\", output)\n",
    "print(\"Number of unique classifications in 0.1% =\" , len(output))"
   ]
  },
  {
   "cell_type": "code",
   "execution_count": 186,
   "metadata": {},
   "outputs": [
    {
     "name": "stdout",
     "output_type": "stream",
     "text": [
      "The accuracy is 26.2%\n",
      "The accuracy is 25.1%\n"
     ]
    }
   ],
   "source": [
    "\n",
    "X_d = np.array(np.round(X*1000,decimals=0))\n",
    "Y_d = np.array(np.round(Y*1000,decimals=0))\n",
    "\n",
    "X_d=X_d.astype('int')\n",
    "Y_d=Y_d.astype('int')\n",
    "X_train, X_test, y_train, y_test = train_test_split(X_d, Y_d)\n",
    "estimator.fit(X_train, y_train)\n",
    "y_predicted = estimator.predict(X_test)\n",
    "accuracy = np.mean(y_test == y_predicted) *100\n",
    "print(\"The accuracy is {0:.1f}%\".format(accuracy))\n",
    "\n",
    "scores = cross_val_score(estimator, X_d, Y_d, scoring = 'accuracy')\n",
    "average_accuracy = np.mean(scores)*100\n",
    "print(\"The accuracy is {0:.1f}%\".format(average_accuracy))"
   ]
  },
  {
   "cell_type": "markdown",
   "metadata": {},
   "source": [
    "# The accuracy of the stricter model\n",
    "\n",
    "Naively an accuracy of 26.2%, 22.9% for the new model appears to be very poor, however the model is now attempting to predict correct daily movement of the S&P500 to 0.1%, choosing from 50 distinct classifications. Randomly a model would stastically predict the correct movement with only 2% accuracy, this is in actuality incredible accuracy\n",
    "\n",
    "# What is this useful for?\n",
    "What is the purpose of predicting specific daily movement of the S&P 500 to a tenth of a %? \n",
    "Well, stock options are a primary, clear choice. Based off of specific target prices, knowledge of short-term price movements of a large, low volatility index, such as the S&P, can be incredibly useful. Option contract are incredibly cheap with short time expiration, along with an index which is very low volatility, if a model can be created to reach specific price targets within a few days, then prediction of the exact 0.1% -0.2% movement can reap incredible profit."
   ]
  },
  {
   "cell_type": "code",
   "execution_count": null,
   "metadata": {},
   "outputs": [],
   "source": [
    "test_inputs = pd.read_csv(' ', delimiter=',')"
   ]
  },
  {
   "cell_type": "code",
   "execution_count": null,
   "metadata": {},
   "outputs": [],
   "source": []
  }
 ],
 "metadata": {
  "kernelspec": {
   "display_name": "Python 3",
   "language": "python",
   "name": "python3"
  },
  "language_info": {
   "codemirror_mode": {
    "name": "ipython",
    "version": 3
   },
   "file_extension": ".py",
   "mimetype": "text/x-python",
   "name": "python",
   "nbconvert_exporter": "python",
   "pygments_lexer": "ipython3",
   "version": "3.7.0"
  }
 },
 "nbformat": 4,
 "nbformat_minor": 2
}
