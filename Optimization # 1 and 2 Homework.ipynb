{
 "cells": [
  {
   "cell_type": "code",
   "execution_count": 3,
   "metadata": {},
   "outputs": [
    {
     "name": "stdout",
     "output_type": "stream",
     "text": [
      "97 ms ± 2.85 ms per loop (mean ± std. dev. of 10 runs, 1 loop each)\n"
     ]
    },
    {
     "data": {
      "text/plain": [
       "-2.9308622601058603"
      ]
     },
     "execution_count": 3,
     "metadata": {},
     "output_type": "execute_result"
    }
   ],
   "source": [
    "#Lazar Novakovic\n",
    "#Global Optimization # 1 and #2 Homework.\n",
    "import numpy as np\n",
    "import matplotlib.pyplot as plt\n",
    "\n",
    "\n",
    "def LJ(r):\n",
    "\n",
    "    return 4*(1/r**12 - 1/r**6)\n",
    "\n",
    "\n",
    "def delta(x1,x2,y1,y2):\n",
    "    return np.sqrt((x1-x2)**2 + ((y1-y2)**2))\n",
    "\n",
    "values = []\n",
    "E = []\n",
    "\n",
    "def minimize(N):\n",
    "    # I tried to limit the values from being incredibly large , or insignificant.\n",
    "    # I fixed the position of one particle to 1,1\n",
    "    for i in range(N):\n",
    "        x1 = 1\n",
    "        x2 = 3 * np.random.random()+1\n",
    "        x3 = 3 * np.random.random()+1\n",
    "        y1 = 1\n",
    "        y2 = 3 * np.random.random()+1\n",
    "        y3 = 3 * np.random.random()+1\n",
    "\n",
    "        r1 = delta(x1,x2,y1,y2)\n",
    "        r2 = delta(x1,x3,y1,y3)\n",
    "        r3 = delta(x2,x3,y2,y3)\n",
    "        \n",
    "        E.append(LJ(r1))\n",
    "        E.append(LJ(r2))\n",
    "        E.append(LJ(r3))\n",
    "    \n",
    "        TE = sum(E)\n",
    "        values.append(TE)\n",
    "        z = values\n",
    "        E.clear()\n",
    "    return min(z)\n",
    "\n",
    "%timeit -n 1 -r 10 minimize(10000)\n",
    "minimize(100000)"
   ]
  },
  {
   "cell_type": "code",
   "execution_count": null,
   "metadata": {},
   "outputs": [],
   "source": []
  },
  {
   "cell_type": "code",
   "execution_count": 7,
   "metadata": {},
   "outputs": [],
   "source": [
    "def LJ(r):\n",
    "\n",
    "    return 4*(1/r**12 - 1/r**6)\n",
    "\n",
    "def total_energy(positions):\n",
    "\n",
    "    E = 0\n",
    "    N_atom = int(len(positions)/3)\n",
    "\n",
    "    for i in range(N_atom-1):\n",
    "        for j in range(i+1, N_atom):\n",
    "            pos1 = positions[i*3:(i+1)*3]\n",
    "            pos2 = positions[j*3:(j+1)*3]\n",
    "            dist = np.linalg.norm(pos1-pos2)\n",
    "            E += LJ(dist)\n",
    "    return E\n",
    "            \n",
    "def init_pos(N, L=5):\n",
    "    return L*np.random.random_sample((N*3,))"
   ]
  },
  {
   "cell_type": "code",
   "execution_count": 8,
   "metadata": {},
   "outputs": [
    {
     "name": "stdout",
     "output_type": "stream",
     "text": [
      "step:  0   values: -33.18343200200898\n",
      "step:  10   values: -25.443406986099898\n",
      "step:  20   values: -34.923912967739\n",
      "step:  30   values: -35.3123267096686\n",
      "step:  40   values: -34.35138234198142\n",
      "The global minimum:   -37.96759956229002\n"
     ]
    }
   ],
   "source": [
    "from scipy.optimize import minimize\n",
    "\n",
    "f_values = []\n",
    "x_values = []\n",
    "N_attempts = 50\n",
    "N_atom = 12\n",
    "for i in range(N_attempts):\n",
    "    pos = init_pos(N_atom)\n",
    "    res = minimize(total_energy, pos, method='CG', tol=1e-4)\n",
    "    f_values.append(res.fun)\n",
    "    x_values.append(res.x)\n",
    "    if i%10==0:\n",
    "        print('step#: ', i, '  values:', res.fun)\n",
    "\n",
    "print('The global minimum:  ', min(f_values))"
   ]
  },
  {
   "cell_type": "code",
   "execution_count": null,
   "metadata": {},
   "outputs": [],
   "source": []
  }
 ],
 "metadata": {
  "kernelspec": {
   "display_name": "Python 3",
   "language": "python",
   "name": "python3"
  }
 },
 "nbformat": 4,
 "nbformat_minor": 2
}
