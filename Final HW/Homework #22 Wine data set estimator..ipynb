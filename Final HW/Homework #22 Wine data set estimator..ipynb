[InternetShortcut]
URL=https://github.com/TheNewTesla/2017-cmp/blob/master/Homework%20%2322%20Wine%20data%20set%20%20estimator..ipynb
