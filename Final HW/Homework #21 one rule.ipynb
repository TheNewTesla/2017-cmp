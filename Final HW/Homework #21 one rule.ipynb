[InternetShortcut]
URL=https://github.com/TheNewTesla/2017-cmp/blob/master/Homework%20%2321%20one%20rule.ipynb
