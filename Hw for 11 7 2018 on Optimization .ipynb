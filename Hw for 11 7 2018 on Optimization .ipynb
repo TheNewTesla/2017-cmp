{
 "cells": [
  {
   "cell_type": "code",
   "execution_count": 9,
   "metadata": {},
   "outputs": [
    {
     "name": "stdout",
     "output_type": "stream",
     "text": [
      "3.710812519186092e-07\n"
     ]
    }
   ],
   "source": [
    "import numpy as np\n",
    "import matplotlib.pyplot as plt\n",
    "from scipy.optimize import minimize\n",
    "\n",
    "#Random iterations of values.\n",
    "\n",
    "N = 1000000\n",
    "\n",
    "#Function\n",
    "\n",
    "def f(x,y):\n",
    "    return 1/2 * x ** 2 + 1/4 * y ** 2\n",
    "\n",
    "\n",
    "\n",
    "points = []\n",
    "\n",
    "#For loop to give random values of x and y to calculate z\n",
    "\n",
    "for i in range(N):\n",
    "    x = np.random.random()\n",
    "    y = np.random.random()\n",
    "    z = f(x,y)\n",
    "    points.append(z)\n",
    "\n",
    "print(min(points))\n"
   ]
  },
  {
   "cell_type": "code",
   "execution_count": 4,
   "metadata": {},
   "outputs": [
    {
     "name": "stdout",
     "output_type": "stream",
     "text": [
      "(True, 0.00019086128341683347, 0.00019086128341683347, 2.7321022130640625e-08)\n"
     ]
    }
   ],
   "source": [
    "#from lecture\n",
    "\n",
    "def f(x,y):\n",
    "    return 1/2 * x ** 2 + 1/4 * y ** 2\n",
    "\n",
    "#Gradient function calculation\n",
    "\n",
    "def grad(f,x,y,dx=.001,dy=.001):\n",
    "    return (f(x+dx,0)-f(x,0))/dx + (f(0,y+dy)-f(0,y))/dy\n",
    "\n",
    "#Minimize function\n",
    "\n",
    "def minimize(f, x0, y0, N=1000):\n",
    "    \n",
    "    #Starting conditions\n",
    "    \n",
    "    y_now = y0\n",
    "    x_now = x0\n",
    "    converged = False\n",
    "    x_prev = None\n",
    "    y_prev = None\n",
    "    \n",
    "    for i in range(N):\n",
    "        \n",
    "        #Variable step calcualtion\n",
    "        \n",
    "        if x_prev == None and y_prev == None:\n",
    "            dx = .0001\n",
    "            dy = .0001\n",
    "        else:\n",
    "            dfy = dfx = (grad(f,x_now,y_now)-grad(f,x_prev,y_now))\n",
    "            dx = (x_now - x_prev)/dfx\n",
    "            dy = (y_now - y_prev)/dfy\n",
    "            \n",
    "        x_next = x_now - grad(f,x_now,y_now)*dx\n",
    "        y_next = y_now - grad(f,x_now,y_now)*dy\n",
    "\n",
    "        #Check for gradient sign change.\n",
    "        \n",
    "        if f(x_next,y_next) < f(x_now,y_now):\n",
    "            x_prev = x_now\n",
    "            x_now = x_next\n",
    "            y_prev = y_now\n",
    "            y_now = y_next\n",
    "                \n",
    "        else:\n",
    "            converged = True\n",
    "            break\n",
    "    return converged, x_now, y_now, f(x_now,y_now)\n",
    "\n",
    "r = np.random.random()\n",
    "\n",
    "print(minimize(f,r,r,N=20))\n"
   ]
  },
  {
   "cell_type": "code",
   "execution_count": 11,
   "metadata": {},
   "outputs": [
    {
     "data": {
      "text/plain": [
       "7.103662309302569e-06"
      ]
     },
     "execution_count": 11,
     "metadata": {},
     "output_type": "execute_result"
    }
   ],
   "source": [
    "def f2(x,y):\n",
    "    return 1/2 * x ** 2 + 1/3 * y ** 2 - x*y/4\n",
    "\n",
    "z = []\n",
    "\n",
    "\n",
    "def random_search2(N):\n",
    "    x_min, x_max = -4, 4\n",
    "    y_min, y_max = -4, 4                   \n",
    "\n",
    "    for i in range(N):\n",
    "        x0 = 8 * np.random.random() - 4\n",
    "        y0 = 8 * np.random.random() - 4\n",
    "        res = minimize(f2, x0, y0, method='nelder-mead', tol=1e-4, options={'disp': False})\n",
    "        z.append(res.fun)\n",
    "        minf = min(z)\n",
    "           \n",
    "    return minf\n",
    "random_search2(1000)"
   ]
  },
  {
   "cell_type": "code",
   "execution_count": null,
   "metadata": {},
   "outputs": [],
   "source": []
  }
 ],
 "metadata": {
  "kernelspec": {
   "display_name": "Python 3",
   "language": "python",
   "name": "python3"
  },
  "language_info": {
   "codemirror_mode": {
    "name": "ipython",
    "version": 3
   },
   "file_extension": ".py",
   "mimetype": "text/x-python",
   "name": "python",
   "nbconvert_exporter": "python",
   "pygments_lexer": "ipython3",
   "version": "3.6.5"
  }
 },
 "nbformat": 4,
 "nbformat_minor": 2
}
