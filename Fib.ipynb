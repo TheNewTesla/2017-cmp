{
 "cells": [
  {
   "cell_type": "code",
   "execution_count": null,
   "metadata": {},
   "outputs": [],
   "source": [
    "import sympy\n",
    "def fi(x):\n",
    "    y = [0,1]\n",
    "    i = len(y)\n",
    "    j = i - 1\n",
    "    n = j - 1\n",
    "    while True:\n",
    "        k = y[n] + y[j]\n",
    "        y.append(k)\n",
    "        j = len(y) - 1\n",
    "        n = len(y) - 2\n",
    "        if len(y) > x+1:\n",
    "            print(y[1:x+1])\n",
    "            break"
   ]
  }
 ],
 "metadata": {
  "kernelspec": {
   "display_name": "Python 3",
   "language": "python",
   "name": "python3"
  },
  "language_info": {
   "codemirror_mode": {
    "name": "ipython",
    "version": 3
   },
   "file_extension": ".py",
   "mimetype": "text/x-python",
   "name": "python",
   "nbconvert_exporter": "python",
   "pygments_lexer": "ipython3",
   "version": "3.6.5"
  }
 },
 "nbformat": 4,
 "nbformat_minor": 2
}
