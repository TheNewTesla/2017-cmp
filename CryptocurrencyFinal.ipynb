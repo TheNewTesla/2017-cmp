{
 "cells": [
  {
   "cell_type": "markdown",
   "metadata": {},
   "source": [
    "# Cryptocurrency modelling of hourly data to predict movement of Bitcoin in one hour.\n",
    "Now I will apply the same modelling however I will use hourly data, rather than daily data. I will now correspond the hourly prices of multiple cryptocurrencies at the same hour, historically, and attempt to predict movement of Bitcoin in the next hour. This is a far lower time scale movement of equilities than daily movement of stocks. It is important to take note that cryptocurencies are far more volalitile, indcredibly larger standard deviation, than the indices used previously.\n",
    "\n",
    "The cryptocurrencies used are Dash, ZEC, XRP, LTC, ETH, respectively. The target currency is Bitcoin (BTC). The data is over 3000 datapoints of hourly prices, and the corresponding price of Bitcoin the next hour. "
   ]
  },
  {
   "cell_type": "code",
   "execution_count": 37,
   "metadata": {},
   "outputs": [],
   "source": [
    "import pandas as pd\n",
    "import numpy as np\n",
    "from sklearn.model_selection import train_test_split, cross_val_score\n",
    "from sklearn.neighbors import KNeighborsClassifier\n",
    "import matplotlib.pyplot as plt\n",
    "test_inputs = pd.read_csv('Cryptocurrencydataraw.csv', delimiter=',')\n",
    "test_inputs = np.asarray(test_inputs)\n",
    "test_inputs\n",
    "\n",
    "import warnings\n",
    "warnings.filterwarnings('ignore')"
   ]
  },
  {
   "cell_type": "code",
   "execution_count": 26,
   "metadata": {},
   "outputs": [
    {
     "name": "stdout",
     "output_type": "stream",
     "text": [
      "[[ 0.0012  0.0035 -0.0023  0.0058]\n",
      " [ 0.0048 -0.0087 -0.0041  0.0033]\n",
      " [-0.0009  0.0002  0.0092  0.0017]\n",
      " ...\n",
      " [-0.009   0.0055 -0.0016  0.0021]\n",
      " [-0.0033 -0.021   0.0007 -0.0011]\n",
      " [ 0.0148  0.018   0.0021  0.0018]]\n"
     ]
    }
   ],
   "source": [
    "X = test_inputs[:,14:18] #data \n",
    "Y = test_inputs[:,13] #target\n",
    "X=X.astype('float')\n",
    "Y=Y.astype('float')\n",
    "\n",
    "print(X)"
   ]
  },
  {
   "cell_type": "code",
   "execution_count": 27,
   "metadata": {},
   "outputs": [
    {
     "name": "stdout",
     "output_type": "stream",
     "text": [
      "[0 1 0 ... 1 1 1]\n"
     ]
    }
   ],
   "source": [
    "\n",
    "X_d = np.array(np.round(X*1000,decimals=0))\n",
    "Y_d = np.array(np.round(Y*1000,decimals=0))\n",
    "\n",
    "X_d=X_d.astype('int')\n",
    "Y_d=Y_d.astype('int')\n",
    "Y_d = np.array( Y_d>=0, dtype='int')\n",
    "\n",
    "print(Y_d)"
   ]
  },
  {
   "cell_type": "code",
   "execution_count": 28,
   "metadata": {},
   "outputs": [],
   "source": [
    "X_train, X_test, y_train, y_test = train_test_split(X_d, Y_d)"
   ]
  },
  {
   "cell_type": "code",
   "execution_count": 29,
   "metadata": {},
   "outputs": [
    {
     "data": {
      "text/plain": [
       "(3224, 2418, 806)"
      ]
     },
     "execution_count": 29,
     "metadata": {},
     "output_type": "execute_result"
    }
   ],
   "source": [
    "len(X_d),len(X_train),len(X_test)"
   ]
  },
  {
   "cell_type": "code",
   "execution_count": 30,
   "metadata": {},
   "outputs": [],
   "source": [
    "estimator = KNeighborsClassifier(n_neighbors=40)"
   ]
  },
  {
   "cell_type": "code",
   "execution_count": 31,
   "metadata": {},
   "outputs": [
    {
     "data": {
      "text/plain": [
       "KNeighborsClassifier(algorithm='auto', leaf_size=30, metric='minkowski',\n",
       "           metric_params=None, n_jobs=None, n_neighbors=40, p=2,\n",
       "           weights='uniform')"
      ]
     },
     "execution_count": 31,
     "metadata": {},
     "output_type": "execute_result"
    }
   ],
   "source": [
    "estimator.fit(X_train, y_train)"
   ]
  },
  {
   "cell_type": "code",
   "execution_count": 32,
   "metadata": {},
   "outputs": [
    {
     "name": "stdout",
     "output_type": "stream",
     "text": [
      "The accuracy is 52.1%\n"
     ]
    }
   ],
   "source": [
    "y_predicted = estimator.predict(X_test)\n",
    "accuracy = np.mean(y_test == y_predicted) *100\n",
    "print(\"The accuracy is {0:.1f}%\".format(accuracy))"
   ]
  },
  {
   "cell_type": "code",
   "execution_count": 34,
   "metadata": {},
   "outputs": [
    {
     "name": "stdout",
     "output_type": "stream",
     "text": [
      "The accuracy is 54.5%\n"
     ]
    }
   ],
   "source": [
    "from sklearn.model_selection import cross_val_score\n",
    "scores = cross_val_score(estimator, X_d, Y_d, scoring = 'accuracy')\n",
    "average_accuracy = np.mean(scores)*100\n",
    "print(\"The accuracy is {0:.1f}%\".format(average_accuracy))"
   ]
  },
  {
   "cell_type": "code",
   "execution_count": 35,
   "metadata": {},
   "outputs": [],
   "source": [
    "\n",
    "avg_scores = []\n",
    "all_scores = []\n",
    "parameters = list(range(1,20))\n",
    "for n_neighbors in parameters:\n",
    "    estimator = KNeighborsClassifier(n_neighbors=n_neighbors)\n",
    "    scores = cross_val_score(estimator, X_d, Y_d, scoring = 'accuracy')\n",
    "    avg_scores.append(np.mean(scores))\n",
    "    all_scores.append(scores)"
   ]
  },
  {
   "cell_type": "code",
   "execution_count": 36,
   "metadata": {},
   "outputs": [
    {
     "data": {
      "image/png": "[encoded data removed]",
      "text/plain": [
       "<Figure size 432x288 with 1 Axes>"
      ]
     },
     "metadata": {
      "needs_background": "light"
     },
     "output_type": "display_data"
    },
    {
     "name": "stdout",
     "output_type": "stream",
     "text": [
      "0.5434229786496904\n"
     ]
    }
   ],
   "source": [
    "\n",
    "import matplotlib.pyplot as plt\n",
    "plt.plot(parameters, avg_scores, '-o')\n",
    "plt.xlabel('N-Neighbour')\n",
    "plt.ylabel('Accuracy')\n",
    "plt.ylim([0,1])\n",
    "\n",
    "plt.show()\n",
    "print(np.max(avg_scores))"
   ]
  },
  {
   "cell_type": "code",
   "execution_count": 24,
   "metadata": {},
   "outputs": [
    {
     "name": "stdout",
     "output_type": "stream",
     "text": [
      "       close    high     low    open        time  volumefrom   volumeto\n",
      "0     111.19  111.19  111.17  111.19  1543927380       49.29    5510.41\n",
      "1     111.23  111.23  111.19  111.19  1543927440       60.49    6676.10\n",
      "2     111.20  111.23  111.20  111.23  1543927500       69.59    7772.68\n",
      "3     111.21  111.21  111.20  111.20  1543927560      193.18   21621.73\n",
      "4     111.20  111.21  111.16  111.21  1543927620       78.66    8750.72\n",
      "5     111.18  111.20  111.17  111.20  1543927680      120.64   13292.36\n",
      "6     111.21  111.21  111.18  111.18  1543927740      307.53   34479.13\n",
      "7     111.20  111.21  111.20  111.21  1543927800       31.64    3501.22\n",
      "8     111.19  111.22  111.19  111.20  1543927860      338.92   37546.00\n",
      "9     111.17  111.19  111.16  111.19  1543927920      157.27   17578.15\n",
      "10    111.16  111.17  111.16  111.17  1543927980       24.44    2731.00\n",
      "11    111.15  111.16  111.15  111.16  1543928040       23.69    2661.43\n",
      "12    111.17  111.17  111.15  111.15  1543928100      193.04   21620.42\n",
      "13    111.18  111.18  111.17  111.17  1543928160      137.48   15298.35\n",
      "14    111.16  111.18  111.16  111.18  1543928220       26.75    2961.98\n",
      "15    111.16  111.16  111.15  111.16  1543928280      108.42   11938.61\n",
      "16    111.17  111.17  111.16  111.16  1543928340       52.61    5851.92\n",
      "17    111.18  111.19  111.17  111.17  1543928400       49.70    5516.09\n",
      "18    111.17  111.18  111.17  111.18  1543928460       38.66    4332.25\n",
      "19    111.18  111.19  111.17  111.17  1543928520       88.64    9895.97\n",
      "20    111.02  111.18  111.02  111.18  1543928580      387.45   43336.11\n",
      "21    110.92  111.02  110.89  111.02  1543928640      366.48   40893.77\n",
      "22    110.88  110.92  110.87  110.92  1543928700       19.07    2105.76\n",
      "23    110.89  110.89  110.88  110.88  1543928760       23.89    2639.98\n",
      "24    110.90  110.90  110.88  110.89  1543928820      104.08   11514.28\n",
      "25    110.97  110.97  110.90  110.90  1543928880      394.41   43317.87\n",
      "26    111.01  111.01  110.97  110.97  1543928940       39.09    4338.75\n",
      "27    110.96  111.02  110.95  111.01  1543929000      392.14   43085.00\n",
      "28    111.06  111.06  110.96  110.96  1543929060       64.17    7079.03\n",
      "29    111.12  111.12  111.05  111.06  1543929120       79.14    8772.46\n",
      "...      ...     ...     ...     ...         ...         ...        ...\n",
      "1971  103.34  103.35  103.31  103.31  1544045640      136.30   14141.93\n",
      "1972  103.37  103.37  103.34  103.34  1544045700      113.03   11638.22\n",
      "1973  103.40  103.44  103.37  103.37  1544045760      558.30   57174.76\n",
      "1974  103.40  103.41  103.40  103.40  1544045820       44.54    4578.09\n",
      "1975  103.39  103.40  103.39  103.40  1544045880       42.68    4439.86\n",
      "1976  103.40  103.40  103.38  103.39  1544045940       58.35    5991.80\n",
      "1977  103.36  103.40  103.35  103.40  1544046000     1063.82  108744.10\n",
      "1978  103.27  103.36  103.27  103.36  1544046060      261.28   27052.58\n",
      "1979  103.24  103.27  103.24  103.27  1544046120       61.23    6278.16\n",
      "1980  103.20  103.24  103.20  103.24  1544046180       62.80    6503.73\n",
      "1981  103.16  103.21  103.16  103.20  1544046240      132.18   13660.54\n",
      "1982  103.17  103.20  103.16  103.16  1544046300      110.98   11470.04\n",
      "1983  103.16  103.17  103.16  103.17  1544046360       31.37    3218.96\n",
      "1984  103.16  103.16  103.14  103.16  1544046420       68.90    7083.78\n",
      "1985  103.10  103.16  103.10  103.16  1544046480      285.15   29307.72\n",
      "1986  103.03  103.11  103.03  103.10  1544046540      244.79   25275.99\n",
      "1987  102.94  103.03  102.93  103.03  1544046600      201.31   20673.97\n",
      "1988  102.83  102.94  102.83  102.94  1544046660      300.65   30835.08\n",
      "1989  102.70  102.83  102.69  102.83  1544046720      284.47   29063.21\n",
      "1990  102.72  102.77  102.70  102.70  1544046780      128.04   13185.58\n",
      "1991  102.69  102.72  102.69  102.72  1544046840      122.67   12591.20\n",
      "1992  102.70  102.72  102.68  102.69  1544046900      902.89   92890.14\n",
      "1993  102.72  102.73  102.69  102.70  1544046960      415.49   42394.97\n",
      "1994  102.77  102.77  102.72  102.72  1544047020      117.21   11983.01\n",
      "1995  102.74  102.77  102.74  102.77  1544047080      157.71   16079.84\n",
      "1996  102.72  102.74  102.72  102.74  1544047140      188.73   19208.68\n",
      "1997  102.72  102.73  102.71  102.72  1544047200      404.54   41195.24\n",
      "1998  102.65  102.73  102.65  102.72  1544047260      674.61   69338.49\n",
      "1999  102.62  102.65  102.62  102.65  1544047320      303.87   31186.29\n",
      "2000  102.61  102.62  102.61  102.62  1544047380        0.00       0.00\n",
      "\n",
      "[2001 rows x 7 columns]\n"
     ]
    }
   ],
   "source": [
    "import requests\n",
    "url = 'https://min-api.cryptocompare.com/data/histominute' +\\\n",
    "        '?fsym=ETH' +\\\n",
    "        '&tsym=USD' +\\\n",
    "        '&limit=2000' +\\\n",
    "        '&aggregate=1'\n",
    "response = requests.get(url)\n",
    "data = response.json()['Data']\n",
    "\n",
    "import pandas as pd\n",
    "df = pd.DataFrame(data)\n",
    "print(df)"
   ]
  },
  {
   "cell_type": "code",
   "execution_count": null,
   "metadata": {},
   "outputs": [],
   "source": []
  },
  {
   "cell_type": "code",
   "execution_count": null,
   "metadata": {},
   "outputs": [],
   "source": []
  },
  {
   "cell_type": "code",
   "execution_count": null,
   "metadata": {},
   "outputs": [],
   "source": []
  },
  {
   "cell_type": "code",
   "execution_count": null,
   "metadata": {},
   "outputs": [],
   "source": []
  }
 ],
 "metadata": {
  "kernelspec": {
   "display_name": "Python 3",
   "language": "python",
   "name": "python3"
  },
  "language_info": {
   "codemirror_mode": {
    "name": "ipython",
    "version": 3
   },
   "file_extension": ".py",
   "mimetype": "text/x-python",
   "name": "python",
   "nbconvert_exporter": "python",
   "pygments_lexer": "ipython3",
   "version": "3.7.0"
  }
 },
 "nbformat": 4,
 "nbformat_minor": 2
}
